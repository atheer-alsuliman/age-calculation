{
 "cells": [
  {
   "cell_type": "markdown",
   "id": "26c3874d",
   "metadata": {},
   "source": [
    "# python code testing \n",
    "\n",
    "### I like it "
   ]
  },
  {
   "cell_type": "code",
   "execution_count": 1,
   "id": "32a79006",
   "metadata": {
    "scrolled": true
   },
   "outputs": [
    {
     "name": "stdout",
     "output_type": "stream",
     "text": [
      "what is your age ?22\n",
      "you have left 68years and 816 months and 3536 weeks and 24820 left on this earth \n"
     ]
    }
   ],
   "source": [
    "user_answer = int (input(\"what is your age ?\"))\n",
    "user_left = 90\n",
    "years_left= user_left - user_answer\n",
    "days_left = years_left *365\n",
    "weeks_left= years_left * 52\n",
    "months_left= years_left * 12\n",
    "\n",
    "print(f\"you have left {years_left}years and {months_left} months and {weeks_left} weeks and {days_left} left on this earth \"\n",
    ")\n",
    "\n",
    "\n"
   ]
  },
  {
   "cell_type": "code",
   "execution_count": null,
   "id": "3ba76dde",
   "metadata": {},
   "outputs": [],
   "source": []
  },
  {
   "cell_type": "code",
   "execution_count": null,
   "id": "618f21e2",
   "metadata": {},
   "outputs": [],
   "source": []
  },
  {
   "cell_type": "code",
   "execution_count": null,
   "id": "5800ded3",
   "metadata": {},
   "outputs": [],
   "source": []
  }
 ],
 "metadata": {
  "kernelspec": {
   "display_name": "Python 3 (ipykernel)",
   "language": "python",
   "name": "python3"
  },
  "language_info": {
   "codemirror_mode": {
    "name": "ipython",
    "version": 3
   },
   "file_extension": ".py",
   "mimetype": "text/x-python",
   "name": "python",
   "nbconvert_exporter": "python",
   "pygments_lexer": "ipython3",
   "version": "3.11.3"
  }
 },
 "nbformat": 4,
 "nbformat_minor": 5
}
